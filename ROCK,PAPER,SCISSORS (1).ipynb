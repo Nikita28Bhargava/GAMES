{
 "cells": [
  {
   "cell_type": "code",
   "execution_count": 1,
   "metadata": {},
   "outputs": [
    {
     "name": "stdout",
     "output_type": "stream",
     "text": [
      "PLAYER 1 ...PLEASE ENTER YOUR NAME : NIKITA\n",
      "PLAYER 2 ...PLEASE ENTER YOUR NAME : SANJANA\n",
      "NIKITA PLEASE ENTER YOUR CHOICE(1-3)3\n",
      "SANJANA PLEASE ENTER YOUR CHOICE(1-3)3\n",
      "NIKITA WINS\n",
      "POINTS OF NIKITA IS : 1\n",
      "POINTS OF SANJANA IS : 0\n"
     ]
    }
   ],
   "source": [
    "# Rock, Paper, Scissor Game\n",
    "\n",
    "def names():\n",
    "    name1=input(\"PLAYER 1 ...PLEASE ENTER YOUR NAME : \")\n",
    "    name2=input(\"PLAYER 2 ...PLEASE ENTER YOUR NAME : \")\n",
    "    return name1,name2\n",
    "def rules(choice1,choice2,points1,points2):\n",
    "    if choice1==1 and choice2==2:\n",
    "        print(\"DRAW\")\n",
    "        point1=points1\n",
    "        point2=points2\n",
    "    elif choice1==2 and choice2==3:\n",
    "        print(\"DRAW\")\n",
    "        point1=points1\n",
    "        point2=points2\n",
    "    elif choice1==3 and choice2==1:\n",
    "        print(\"DRAW\")\n",
    "        point1=points1\n",
    "        point2=points2\n",
    "    elif choice1==1 and choice2==1:\n",
    "        print(f\"{name2}  WINS\")\n",
    "        point1=points1\n",
    "        point2=points2+1\n",
    "    elif choice1==1 and choice2==3:\n",
    "        print(f\"{name2} WINS\")\n",
    "        point1=points1\n",
    "        point2=points2+1\n",
    "    elif choice1==2 and choice2==1:\n",
    "        print(f\"{name2} WINS\")\n",
    "        point1=points1\n",
    "        point2=points2+1\n",
    "    elif choice1==2 and choice2==2:\n",
    "        print(f\"{name1} WINS\")\n",
    "        point1=points1+1\n",
    "        point2=points2\n",
    "    elif choice1==3 and choice2==2:\n",
    "        print(f\"{name1} WINS\")\n",
    "        point1=points1+1\n",
    "        point2=points2\n",
    "    elif choice1==3 and choice2==3:\n",
    "        print(f\"{name1} WINS\")\n",
    "        point1=points1+1\n",
    "        point2=points2\n",
    "    return point1,point2\n",
    "game1={1:\"rock\",2:\"paper\",3:\"scissors\"}\n",
    "game2={2:\"rock\",3:\"paper\",1:\"scissors\"}\n",
    "while(1):\n",
    "    name1,name2=names()\n",
    "    choice1=int(input(f\"{name1} PLEASE ENTER YOUR CHOICE(1-3)\"))\n",
    "    choice2=int(input(f\"{name2} PLEASE ENTER YOUR CHOICE(1-3)\"))\n",
    "    points1=0\n",
    "    points2=0\n",
    "    point1,point2=rules(choice1,choice2,points1,points2)\n",
    "    print(f\"POINTS OF {name1} IS :\",point1)\n",
    "    print(f\"POINTS OF {name2} IS :\",point2)\n",
    "    break"
   ]
  },
  {
   "cell_type": "code",
   "execution_count": null,
   "metadata": {},
   "outputs": [],
   "source": []
  },
  {
   "cell_type": "code",
   "execution_count": null,
   "metadata": {},
   "outputs": [],
   "source": []
  }
 ],
 "metadata": {
  "kernelspec": {
   "display_name": "Python 3",
   "language": "python",
   "name": "python3"
  },
  "language_info": {
   "codemirror_mode": {
    "name": "ipython",
    "version": 3
   },
   "file_extension": ".py",
   "mimetype": "text/x-python",
   "name": "python",
   "nbconvert_exporter": "python",
   "pygments_lexer": "ipython3",
   "version": "3.8.5"
  }
 },
 "nbformat": 4,
 "nbformat_minor": 4
}

{
 "cells": [
  {
   "cell_type": "code",
   "execution_count": 2,
   "metadata": {},
   "outputs": [
    {
     "name": "stdout",
     "output_type": "stream",
     "text": [
      "HELLO AND WELCOME TO THE GAME\n",
      "ENTER A NUMBER BETWEEN 1 TO 100::10\n",
      "IT'S HIGHER\n",
      "ENTER A NUMBER BETWEEN 1 TO 100::90\n",
      "IT'S LOWER\n",
      "ENTER A NUMBER BETWEEN 1 TO 100::50\n",
      "IT'S HIGHER\n",
      "ENTER A NUMBER BETWEEN 1 TO 100::70\n",
      "IT'S HIGHER\n",
      "ENTER A NUMBER BETWEEN 1 TO 100::80\n",
      "IT'S LOWER\n",
      "ENTER A NUMBER BETWEEN 1 TO 100::75\n",
      "IT'S LOWER\n",
      "ENTER A NUMBER BETWEEN 1 TO 100::73\n",
      "IT'S LOWER\n",
      "ENTER A NUMBER BETWEEN 1 TO 100::71\n",
      "HURRAY YOU GUESSED IT RIGHT IN 8 STEPS\n"
     ]
    }
   ],
   "source": [
    "# GUESS THE NUMBER\n",
    "\n",
    "import random\n",
    "\n",
    "print(\"HELLO AND WELCOME TO THE GAME\")\n",
    "\n",
    "ch=random.randint(1,100)\n",
    "n=1\n",
    "while (n<10):\n",
    "    n=n+1\n",
    "    num=int(input(\"ENTER A NUMBER BETWEEN 1 TO 100::\"))\n",
    "    if ch==num:\n",
    "        print(f\"HURRAY YOU GUESSED IT RIGHT IN {n-1} STEPS\")\n",
    "        break\n",
    "    elif ch>num:\n",
    "        print(\"IT'S HIGHER\")\n",
    "    elif ch<num:\n",
    "        print(\"IT'S LOWER\")\n",
    "if n>10:\n",
    "    print(\"BETTER LUCK NEXT TIME\")\n",
    "    \n"
   ]
  },
  {
   "cell_type": "code",
   "execution_count": null,
   "metadata": {},
   "outputs": [],
   "source": []
  },
  {
   "cell_type": "markdown",
   "metadata": {},
   "source": [
    " "
   ]
  },
  {
   "cell_type": "code",
   "execution_count": null,
   "metadata": {},
   "outputs": [],
   "source": []
  }
 ],
 "metadata": {
  "kernelspec": {
   "display_name": "Python 3",
   "language": "python",
   "name": "python3"
  },
  "language_info": {
   "codemirror_mode": {
    "name": "ipython",
    "version": 3
   },
   "file_extension": ".py",
   "mimetype": "text/x-python",
   "name": "python",
   "nbconvert_exporter": "python",
   "pygments_lexer": "ipython3",
   "version": "3.8.5"
  }
 },
 "nbformat": 4,
 "nbformat_minor": 4
}

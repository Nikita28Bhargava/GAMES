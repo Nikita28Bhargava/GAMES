{
 "cells": [
  {
   "cell_type": "code",
   "execution_count": 4,
   "metadata": {},
   "outputs": [
    {
     "name": "stdout",
     "output_type": "stream",
     "text": [
      "PLEASE ENTER YOUR NAME:nikita\n",
      "HEY! nikita, WELCOME TO THE WORD GUESSING GAME\n",
      "In this game you have to guess the correct word \n",
      "for your convenience following 2 hints will be provided to you\n",
      "HINT NO. 1\n",
      "The word contains 4 letters in it\n",
      "HINT NO. 2\n",
      "The word starts with k and ends with e\n",
      "Now it's your turn to guess the word and you will be given only 2 chances\n",
      "What do you think the word could be?kate\n",
      "Try again\n",
      "What do you think the word could be?kite\n",
      "You guessed the right word\n"
     ]
    }
   ],
   "source": [
    "# GUESS THE WORD\n",
    "\n",
    "import random\n",
    "list1=[\"apple\",\"banana\",\"umbrella\",\"kite\",\"chair\",\"gloves\",\"table\",\"student\",\"mathematics\",\"python\"]\n",
    "word=random.choice(list1)\n",
    "l=len(word)\n",
    "a=word[0]\n",
    "b=word[-1]\n",
    "name=input(\"PLEASE ENTER YOUR NAME:\")\n",
    "print(f\"HEY! {name}, WELCOME TO THE WORD GUESSING GAME\")\n",
    "print(\"In this game you have to guess the correct word \" )\n",
    "print(\"for your convenience following 2 hints will be provided to you\")\n",
    "print(\"HINT NO. 1\")\n",
    "print(f\"The word contains {l} letters in it\")\n",
    "print(\"HINT NO. 2\")\n",
    "print(f\"The word starts with {a} and ends with {b}\")\n",
    "print(\"Now it's your turn to guess the word and you will be given only 2 chances\")\n",
    "n=0\n",
    "while n<2:\n",
    "    choice=input(\"What do you think the word could be?\")\n",
    "    n=n+1\n",
    "    if choice==word:\n",
    "        print('You guessed the right word')\n",
    "        break\n",
    "    else:\n",
    "        print(\"Try again\")\n",
    "if n>2:\n",
    "    print(\"You have exceeded the maximum number of chances\")\n"
   ]
  },
  {
   "cell_type": "code",
   "execution_count": null,
   "metadata": {},
   "outputs": [],
   "source": []
  },
  {
   "cell_type": "code",
   "execution_count": null,
   "metadata": {},
   "outputs": [],
   "source": []
  }
 ],
 "metadata": {
  "kernelspec": {
   "display_name": "Python 3",
   "language": "python",
   "name": "python3"
  },
  "language_info": {
   "codemirror_mode": {
    "name": "ipython",
    "version": 3
   },
   "file_extension": ".py",
   "mimetype": "text/x-python",
   "name": "python",
   "nbconvert_exporter": "python",
   "pygments_lexer": "ipython3",
   "version": "3.8.5"
  }
 },
 "nbformat": 4,
 "nbformat_minor": 4
}
